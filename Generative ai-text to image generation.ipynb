{
 "cells": [
  {
   "cell_type": "code",
   "execution_count": 1,
   "id": "f57049d2",
   "metadata": {},
   "outputs": [],
   "source": [
    "import gradio as gr\n",
    "import openai"
   ]
  },
  {
   "cell_type": "code",
   "execution_count": 2,
   "id": "f59368ec",
   "metadata": {},
   "outputs": [],
   "source": [
    "openai.api_key = \"YOUR_API_KEY\""
   ]
  },
  {
   "cell_type": "code",
   "execution_count": 3,
   "id": "e72c7d53",
   "metadata": {},
   "outputs": [],
   "source": [
    "def chatgpt_api(input_text):\n",
    "    messages = [\n",
    "        {\"role\": \"system\", \"content\": \"You are a helpful assistant.\"},\n",
    "        {\"role\": \"user\", \"content\": input_text}\n",
    "    ]\n",
    "    \n",
    "    chat_completion = openai.ChatCompletion.create(\n",
    "        model=\"gpt-3.5-turbo\", messages=messages\n",
    "    )\n",
    "    \n",
    "    reply = chat_completion.choices[0].message.content\n",
    "    return reply"
   ]
  },
  {
   "cell_type": "code",
   "execution_count": 4,
   "id": "654806f3",
   "metadata": {},
   "outputs": [],
   "source": [
    "def dall_e_api(dalle_prompt):\n",
    "    dalle_response = openai.Image.create(\n",
    "        prompt=dalle_prompt,\n",
    "        size=\"512x512\"\n",
    "    )\n",
    "    image_url = dalle_response['data'][0]['url']\n",
    "    return image_url"
   ]
  },
  {
   "cell_type": "code",
   "execution_count": 5,
   "id": "e44fe5be",
   "metadata": {},
   "outputs": [],
   "source": [
    "def generate_image(input_text):\n",
    "    dalle_prompt = chatgpt_api(input_text)\n",
    "    image_url = dall_e_api(dalle_prompt)\n",
    "    return image_url"
   ]
  },
  {
   "cell_type": "code",
   "execution_count": 6,
   "id": "6294f10b",
   "metadata": {},
   "outputs": [
    {
     "name": "stderr",
     "output_type": "stream",
     "text": [
      "C:\\Users\\devad\\anaconda3\\lib\\site-packages\\gradio\\inputs.py:27: UserWarning: Usage of gradio.inputs is deprecated, and will not be supported in the future, please import your component from gradio.components\n",
      "  warnings.warn(\n",
      "C:\\Users\\devad\\anaconda3\\lib\\site-packages\\gradio\\inputs.py:30: UserWarning: `optional` parameter is deprecated, and it has no effect\n",
      "  super().__init__(\n",
      "C:\\Users\\devad\\anaconda3\\lib\\site-packages\\gradio\\inputs.py:30: UserWarning: `numeric` parameter is deprecated, and it has no effect\n",
      "  super().__init__(\n",
      "C:\\Users\\devad\\anaconda3\\lib\\site-packages\\gradio\\outputs.py:43: UserWarning: Usage of gradio.outputs is deprecated, and will not be supported in the future, please import your components from gradio.components\n",
      "  warnings.warn(\n"
     ]
    }
   ],
   "source": [
    "input_text = gr.inputs.Textbox(label=\"Input Text\")\n",
    "output_image = gr.outputs.Image(type=\"pil\", label=\"Generated Image\")"
   ]
  },
  {
   "cell_type": "code",
   "execution_count": 8,
   "id": "30723f37",
   "metadata": {},
   "outputs": [],
   "source": [
    "image_generation_interface = gr.Interface(\n",
    "    fn=generate_image,\n",
    "    inputs=input_text,\n",
    "    outputs=output_image,\n",
    "    title=\"Text to Image Generation\",\n",
    "    description=\"Enter a text prompt and generate an image based on the prompt.\",\n",
    "    examples=[\n",
    "        [\"A beautiful sunset over the mountains\"],\n",
    "        [\"A futuristic cityscape at night\"],\n",
    "        [\"A fluffy kitten playing with a ball of yarn\"]\n",
    "    ]\n",
    ")"
   ]
  },
  {
   "cell_type": "code",
   "execution_count": null,
   "id": "245e415a",
   "metadata": {
    "scrolled": false
   },
   "outputs": [
    {
     "name": "stdout",
     "output_type": "stream",
     "text": [
      "Running on local URL:  http://127.0.0.1:7860\n",
      "\n",
      "To create a public link, set `share=True` in `launch()`.\n"
     ]
    },
    {
     "data": {
      "text/html": [
       "<div><iframe src=\"http://127.0.0.1:7860/\" width=\"100%\" height=\"500\" allow=\"autoplay; camera; microphone; clipboard-read; clipboard-write;\" frameborder=\"0\" allowfullscreen></iframe></div>"
      ],
      "text/plain": [
       "<IPython.core.display.HTML object>"
      ]
     },
     "metadata": {},
     "output_type": "display_data"
    },
    {
     "name": "stderr",
     "output_type": "stream",
     "text": [
      "Traceback (most recent call last):\n",
      "  File \"C:\\Users\\devad\\anaconda3\\lib\\site-packages\\gradio\\routes.py\", line 437, in run_predict\n",
      "    output = await app.get_blocks().process_api(\n",
      "  File \"C:\\Users\\devad\\anaconda3\\lib\\site-packages\\gradio\\blocks.py\", line 1352, in process_api\n",
      "    result = await self.call_function(\n",
      "  File \"C:\\Users\\devad\\anaconda3\\lib\\site-packages\\gradio\\blocks.py\", line 1077, in call_function\n",
      "    prediction = await anyio.to_thread.run_sync(\n",
      "  File \"C:\\Users\\devad\\anaconda3\\lib\\site-packages\\anyio\\to_thread.py\", line 28, in run_sync\n",
      "    return await get_asynclib().run_sync_in_worker_thread(func, *args, cancellable=cancellable,\n",
      "  File \"C:\\Users\\devad\\anaconda3\\lib\\site-packages\\anyio\\_backends\\_asyncio.py\", line 818, in run_sync_in_worker_thread\n",
      "    return await future\n",
      "  File \"C:\\Users\\devad\\anaconda3\\lib\\site-packages\\anyio\\_backends\\_asyncio.py\", line 754, in run\n",
      "    result = context.run(func, *args)\n",
      "  File \"C:\\Users\\devad\\AppData\\Local\\Temp\\ipykernel_16016\\3316204024.py\", line 3, in generate_image\n",
      "    image_url = dall_e_api(dalle_prompt)\n",
      "  File \"C:\\Users\\devad\\AppData\\Local\\Temp\\ipykernel_16016\\367617614.py\", line 2, in dall_e_api\n",
      "    dalle_response = openai.Image.create(\n",
      "  File \"C:\\Users\\devad\\anaconda3\\lib\\site-packages\\openai\\api_resources\\image.py\", line 39, in create\n",
      "    response, _, api_key = requestor.request(\n",
      "  File \"C:\\Users\\devad\\anaconda3\\lib\\site-packages\\openai\\api_requestor.py\", line 298, in request\n",
      "    resp, got_stream = self._interpret_response(result, stream)\n",
      "  File \"C:\\Users\\devad\\anaconda3\\lib\\site-packages\\openai\\api_requestor.py\", line 700, in _interpret_response\n",
      "    self._interpret_response_line(\n",
      "  File \"C:\\Users\\devad\\anaconda3\\lib\\site-packages\\openai\\api_requestor.py\", line 763, in _interpret_response_line\n",
      "    raise self.handle_error_response(\n",
      "openai.error.InvalidRequestError: \"A futuristic cityscape at night is a sight to behold. The city is alive with vibrant hues and the glow of artificial lights. Tall, sleek buildings reach into the dark sky, their windows shimmering like stars. Neon signs flicker and flash in dazzling patterns, advertising the multitude of businesses within the city.\\n\\nHovering vehicles whiz through the air, their sleek designs blending seamlessly with the futuristic landscape. Some pass by in a blur, leaving behind streaks of multi-colored light trails. Others hover in place, transporting passengers from one part of the city to another.\\n\\nThe streets below are lined with holographic projections that dance with captivating illusions. Pedestrians walk the sidewalks, their clothing illuminated by luminescent technology. Trains zip along elevated tracks, seamlessly gliding through the city with barely a sound.\\n\\nIn the distance, a holographic billboard displays the latest advancements in technology or upcoming events. The city is a hub of innovation and progress, constantly evolving and pushing the boundaries of what is possible.\\n\\nAs the night deepens, the cityscape becomes even more enchanting. The darkness serves as a backdrop to the countless lights that illuminate the city, casting vibrant reflections on the sleek surfaces of the buildings and vehicles. It's a hypnotizing spectacle that captivates the imagination and fills the air with an electric energy.\\n\\nIn this futuristic cityscape at night, the potential of a technologically advanced world is realized. It showcases a future where creativity, efficiency, and innovation reign supreme, painting a vision of what lies ahead in our ever-evolving urban landscapes.\" is too long - 'prompt'\n",
      "Traceback (most recent call last):\n",
      "  File \"C:\\Users\\devad\\anaconda3\\lib\\site-packages\\gradio\\routes.py\", line 437, in run_predict\n",
      "    output = await app.get_blocks().process_api(\n",
      "  File \"C:\\Users\\devad\\anaconda3\\lib\\site-packages\\gradio\\blocks.py\", line 1352, in process_api\n",
      "    result = await self.call_function(\n",
      "  File \"C:\\Users\\devad\\anaconda3\\lib\\site-packages\\gradio\\blocks.py\", line 1077, in call_function\n",
      "    prediction = await anyio.to_thread.run_sync(\n",
      "  File \"C:\\Users\\devad\\anaconda3\\lib\\site-packages\\anyio\\to_thread.py\", line 28, in run_sync\n",
      "    return await get_asynclib().run_sync_in_worker_thread(func, *args, cancellable=cancellable,\n",
      "  File \"C:\\Users\\devad\\anaconda3\\lib\\site-packages\\anyio\\_backends\\_asyncio.py\", line 818, in run_sync_in_worker_thread\n",
      "    return await future\n",
      "  File \"C:\\Users\\devad\\anaconda3\\lib\\site-packages\\anyio\\_backends\\_asyncio.py\", line 754, in run\n",
      "    result = context.run(func, *args)\n",
      "  File \"C:\\Users\\devad\\AppData\\Local\\Temp\\ipykernel_16016\\3316204024.py\", line 3, in generate_image\n",
      "    image_url = dall_e_api(dalle_prompt)\n",
      "  File \"C:\\Users\\devad\\AppData\\Local\\Temp\\ipykernel_16016\\367617614.py\", line 2, in dall_e_api\n",
      "    dalle_response = openai.Image.create(\n",
      "  File \"C:\\Users\\devad\\anaconda3\\lib\\site-packages\\openai\\api_resources\\image.py\", line 39, in create\n",
      "    response, _, api_key = requestor.request(\n",
      "  File \"C:\\Users\\devad\\anaconda3\\lib\\site-packages\\openai\\api_requestor.py\", line 298, in request\n",
      "    resp, got_stream = self._interpret_response(result, stream)\n",
      "  File \"C:\\Users\\devad\\anaconda3\\lib\\site-packages\\openai\\api_requestor.py\", line 700, in _interpret_response\n",
      "    self._interpret_response_line(\n",
      "  File \"C:\\Users\\devad\\anaconda3\\lib\\site-packages\\openai\\api_requestor.py\", line 763, in _interpret_response_line\n",
      "    raise self.handle_error_response(\n",
      "openai.error.InvalidRequestError: \"Creating a cityscape with various types of houses, all featuring the Indian flag is a great idea! Here's a description of the scene:\\n\\nIn the heart of a bustling city, a colorful cityscape emerges, captivating the eyes of both locals and tourists. The streets are lined with a diverse range of houses, each displaying the vibrant colors of the Indian flag.\\n\\nAt the forefront, a traditional bungalow stands tall, adorned with intricate carvings and accents. Its walls are painted in shades of saffron, representing courage and sacrifice. The windows are adorned with delicate flags that flutter gracefully in the wind.\\n\\nJust a few steps down the street, a row of colorful townhouses catches the eye. Each one showcases a different shade of green, symbolizing fertility and growth. Among these houses, the Indian flag waves proudly on flagpoles, adding a sense of unity and patriotism to the neighborhood.\\n\\nFurther down the road, modern apartment buildings rise towards the sky. Their glass facades reflect the hues of the tri-color flag, reimagined in contemporary architecture. Flags billow on balconies, adding a touch of festivity to the urban landscape.\\n\\nIn the distance, skyscrapers loom, symbolizing the city's progress and ambition. Each building stands tall, showcasing large Indian flags on their rooftops, representing the country's pride and unity.\\n\\nAs day turns into night, the entire cityscape illuminates with dazzling lights. Every house, from the humble bungalow to the towering skyscrapers, displays the national flag in creative ways. This breathtaking scene stands as a testament to India's rich heritage, cultural diversity, and unwavering patriotism.\\n\\nWhether viewed from afar or explored on foot, this cityscape filled with houses featuring the Indian flag is a vibrant celebration of India's past, present, and future.\" is too long - 'prompt'\n",
      "Traceback (most recent call last):\n",
      "  File \"C:\\Users\\devad\\anaconda3\\lib\\site-packages\\gradio\\routes.py\", line 437, in run_predict\n",
      "    output = await app.get_blocks().process_api(\n",
      "  File \"C:\\Users\\devad\\anaconda3\\lib\\site-packages\\gradio\\blocks.py\", line 1352, in process_api\n",
      "    result = await self.call_function(\n",
      "  File \"C:\\Users\\devad\\anaconda3\\lib\\site-packages\\gradio\\blocks.py\", line 1077, in call_function\n",
      "    prediction = await anyio.to_thread.run_sync(\n",
      "  File \"C:\\Users\\devad\\anaconda3\\lib\\site-packages\\anyio\\to_thread.py\", line 28, in run_sync\n",
      "    return await get_asynclib().run_sync_in_worker_thread(func, *args, cancellable=cancellable,\n",
      "  File \"C:\\Users\\devad\\anaconda3\\lib\\site-packages\\anyio\\_backends\\_asyncio.py\", line 818, in run_sync_in_worker_thread\n",
      "    return await future\n",
      "  File \"C:\\Users\\devad\\anaconda3\\lib\\site-packages\\anyio\\_backends\\_asyncio.py\", line 754, in run\n",
      "    result = context.run(func, *args)\n",
      "  File \"C:\\Users\\devad\\AppData\\Local\\Temp\\ipykernel_16016\\3316204024.py\", line 3, in generate_image\n",
      "    image_url = dall_e_api(dalle_prompt)\n",
      "  File \"C:\\Users\\devad\\AppData\\Local\\Temp\\ipykernel_16016\\367617614.py\", line 2, in dall_e_api\n",
      "    dalle_response = openai.Image.create(\n",
      "  File \"C:\\Users\\devad\\anaconda3\\lib\\site-packages\\openai\\api_resources\\image.py\", line 39, in create\n",
      "    response, _, api_key = requestor.request(\n",
      "  File \"C:\\Users\\devad\\anaconda3\\lib\\site-packages\\openai\\api_requestor.py\", line 298, in request\n",
      "    resp, got_stream = self._interpret_response(result, stream)\n",
      "  File \"C:\\Users\\devad\\anaconda3\\lib\\site-packages\\openai\\api_requestor.py\", line 700, in _interpret_response\n",
      "    self._interpret_response_line(\n",
      "  File \"C:\\Users\\devad\\anaconda3\\lib\\site-packages\\openai\\api_requestor.py\", line 763, in _interpret_response_line\n",
      "    raise self.handle_error_response(\n",
      "openai.error.InvalidRequestError: 'A beautiful sunrise over the mountains can be a breathtaking sight. The glowing colors of the sky cast a warm and tranquil glow over the landscape. The majestic mountains serve as a backdrop, creating a stunning contrast against the vibrant hues of orange, pink, and purple.\\n\\nAs the sun rises higher, its golden rays cascade over the peaks, illuminating the rugged terrain and highlighting every crevice and ridge. The serene beauty of this scene can evoke a sense of peace and awe, reminding us of the wonders of nature.\\n\\nThe air feels crisp and invigorating as the morning light gently touches the earth. Birds begin to chirp, adding to the enchanting symphony of nature awakening. It is a magical moment where time seems to stand still, allowing us to fully appreciate the natural beauty that surrounds us.\\n\\nWatching a sunrise over the mountains can be a powerful experience, filling us with a sense of wonder and reminding us to embrace the beauty and serenity that can be found in the simplest things.' is too long - 'prompt'\n"
     ]
    }
   ],
   "source": [
    "image_generation_interface.launch(debug=True)"
   ]
  },
  {
   "cell_type": "code",
   "execution_count": null,
   "id": "f0e75c37",
   "metadata": {},
   "outputs": [],
   "source": []
  }
 ],
 "metadata": {
  "kernelspec": {
   "display_name": "Python 3 (ipykernel)",
   "language": "python",
   "name": "python3"
  },
  "language_info": {
   "codemirror_mode": {
    "name": "ipython",
    "version": 3
   },
   "file_extension": ".py",
   "mimetype": "text/x-python",
   "name": "python",
   "nbconvert_exporter": "python",
   "pygments_lexer": "ipython3",
   "version": "3.10.9"
  }
 },
 "nbformat": 4,
 "nbformat_minor": 5
}
