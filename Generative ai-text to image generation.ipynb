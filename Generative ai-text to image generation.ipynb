{
 "cells": [
  {
   "cell_type": "code",
   "execution_count": null,
   "id": "f57049d2",
   "metadata": {},
   "outputs": [],
   "source": [
    "import gradio as gr\n",
    "import openai"
   ]
  },
  {
   "cell_type": "code",
   "execution_count": null,
   "id": "f59368ec",
   "metadata": {},
   "outputs": [],
   "source": [
    "openai.api_key = \"YOUR_API_KEY\""
   ]
  },
  {
   "cell_type": "code",
   "execution_count": null,
   "id": "e72c7d53",
   "metadata": {},
   "outputs": [],
   "source": [
    "def chatgpt_api(input_text):\n",
    "    messages = [\n",
    "        {\"role\": \"system\", \"content\": \"You are a helpful assistant.\"},\n",
    "        {\"role\": \"user\", \"content\": input_text}\n",
    "    ]\n",
    "    \n",
    "    chat_completion = openai.ChatCompletion.create(\n",
    "        model=\"gpt-3.5-turbo\", messages=messages\n",
    "    )\n",
    "    \n",
    "    reply = chat_completion.choices[0].message.content\n",
    "    return reply"
   ]
  },
  {
   "cell_type": "code",
   "execution_count": null,
   "id": "654806f3",
   "metadata": {},
   "outputs": [],
   "source": [
    "def dall_e_api(dalle_prompt):\n",
    "    dalle_response = openai.Image.create(\n",
    "        prompt=dalle_prompt,\n",
    "        size=\"512x512\"\n",
    "    )\n",
    "    image_url = dalle_response['data'][0]['url']\n",
    "    return image_url"
   ]
  },
  {
   "cell_type": "code",
   "execution_count": null,
   "id": "e44fe5be",
   "metadata": {},
   "outputs": [],
   "source": [
    "def generate_image(input_text):\n",
    "    dalle_prompt = chatgpt_api(input_text)\n",
    "    image_url = dall_e_api(dalle_prompt)\n",
    "    return image_url"
   ]
  },
  {
   "cell_type": "code",
   "execution_count": null,
   "id": "6294f10b",
   "metadata": {},
   "outputs": [],
   "source": [
    "input_text = gr.inputs.Textbox(label=\"Input Text\")\n",
    "output_image = gr.outputs.Image(type=\"pil\", label=\"Generated Image\")"
   ]
  },
  {
   "cell_type": "code",
   "execution_count": null,
   "id": "30723f37",
   "metadata": {},
   "outputs": [],
   "source": [
    "image_generation_interface = gr.Interface(\n",
    "    fn=generate_image,\n",
    "    inputs=input_text,\n",
    "    outputs=output_image,\n",
    "    title=\"Text to Image Generation\",\n",
    "    description=\"Enter a text prompt and generate an image based on the prompt.\",\n",
    "    examples=[\n",
    "        [\"A beautiful sunset over the mountains\"],\n",
    "        [\"A futuristic cityscape at night\"],\n",
    "        [\"A fluffy kitten playing with a ball of yarn\"]\n",
    "    ]\n",
    ")"
   ]
  },
  {
   "cell_type": "code",
   "execution_count": null,
   "id": "245e415a",
   "metadata": {
    "scrolled": false
   },
   "outputs": [],
   "source": [
    "image_generation_interface.launch(debug=True)"
   ]
  },
  {
   "cell_type": "code",
   "execution_count": null,
   "id": "f0e75c37",
   "metadata": {},
   "outputs": [],
   "source": []
  }
 ],
 "metadata": {
  "kernelspec": {
   "display_name": "Python 3 (ipykernel)",
   "language": "python",
   "name": "python3"
  },
  "language_info": {
   "codemirror_mode": {
    "name": "ipython",
    "version": 3
   },
   "file_extension": ".py",
   "mimetype": "text/x-python",
   "name": "python",
   "nbconvert_exporter": "python",
   "pygments_lexer": "ipython3",
   "version": "3.10.9"
  }
 },
 "nbformat": 4,
 "nbformat_minor": 5
}
